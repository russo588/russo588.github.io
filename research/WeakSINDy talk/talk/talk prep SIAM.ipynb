{
 "cells": [
  {
   "cell_type": "code",
   "execution_count": 1,
   "id": "9520a544",
   "metadata": {},
   "outputs": [],
   "source": [
    "import numpy as np\n",
    "import math\n",
    "from matplotlib import cm\n",
    "from numpy.linalg import norm as norm\n",
    "import matplotlib.pyplot as plt\n",
    "import scipy as scipy\n",
    "from mpl_toolkits.mplot3d import Axes3D\n",
    "from scipy.interpolate import griddata\n",
    "from scipy.integrate import odeint\n",
    "from itertools import product \n",
    "from numpy import linalg as LA\n",
    "from joblib import Parallel, delayed\n",
    "import glob\n",
    "from PIL import Image"
   ]
  },
  {
   "cell_type": "code",
   "execution_count": 3,
   "id": "96bef0a5",
   "metadata": {},
   "outputs": [
    {
     "name": "stdout",
     "output_type": "stream",
     "text": [
      "<section data-background-image = 'slides/SIAM-1.jpg' data-background-size = '90%'></section>\n",
      "<section data-background-image = 'slides/SIAM-2.jpg' data-background-size = '90%'></section>\n",
      "<section data-background-image = 'slides/SIAM-3.jpg' data-background-size = '90%'></section>\n",
      "<section data-background-image = 'slides/SIAM-4.jpg' data-background-size = '90%'></section>\n",
      "<section data-background-image = 'slides/SIAM-5.jpg' data-background-size = '90%'></section>\n",
      "<section data-background-image = 'slides/SIAM-6.jpg' data-background-size = '90%'></section>\n",
      "<section data-background-image = 'slides/SIAM-7.jpg' data-background-size = '90%'></section>\n",
      "<section data-background-image = 'slides/SIAM-8.jpg' data-background-size = '90%'></section>\n",
      "<section data-background-image = 'slides/SIAM-9.jpg' data-background-size = '90%'></section>\n",
      "<section data-background-image = 'slides/SIAM-10.jpg' data-background-size = '90%'></section>\n",
      "<section data-background-image = 'slides/SIAM-11.jpg' data-background-size = '90%'></section>\n",
      "<section data-background-image = 'slides/SIAM-12.jpg' data-background-size = '90%'></section>\n",
      "<section data-background-image = 'slides/SIAM-13.jpg' data-background-size = '90%'></section>\n",
      "<section data-background-image = 'slides/SIAM-14.jpg' data-background-size = '90%'></section>\n",
      "<section data-background-image = 'slides/SIAM-15.jpg' data-background-size = '90%'></section>\n",
      "<section data-background-image = 'slides/SIAM-16.jpg' data-background-size = '90%'></section>\n",
      "<section data-background-image = 'slides/SIAM-17.jpg' data-background-size = '90%'></section>\n",
      "<section data-background-image = 'slides/SIAM-18.jpg' data-background-size = '90%'></section>\n",
      "<section data-background-image = 'slides/SIAM-19.jpg' data-background-size = '90%'></section>\n",
      "<section data-background-image = 'slides/SIAM-20.jpg' data-background-size = '90%'></section>\n",
      "<section data-background-image = 'slides/SIAM-21.jpg' data-background-size = '90%'></section>\n",
      "<section data-background-image = 'slides/SIAM-22.jpg' data-background-size = '90%'></section>\n",
      "<section data-background-image = 'slides/SIAM-23.jpg' data-background-size = '90%'></section>\n",
      "<section data-background-image = 'slides/SIAM-24.jpg' data-background-size = '90%'></section>\n",
      "<section data-background-image = 'slides/SIAM-25.jpg' data-background-size = '90%'></section>\n",
      "<section data-background-image = 'slides/SIAM-26.jpg' data-background-size = '90%'></section>\n",
      "<section data-background-image = 'slides/SIAM-27.jpg' data-background-size = '90%'></section>\n",
      "<section data-background-image = 'slides/SIAM-28.jpg' data-background-size = '90%'></section>\n",
      "<section data-background-image = 'slides/SIAM-29.jpg' data-background-size = '90%'></section>\n",
      "<section data-background-image = 'slides/SIAM-30.jpg' data-background-size = '90%'></section>\n",
      "<section data-background-image = 'slides/SIAM-31.jpg' data-background-size = '90%'></section>\n",
      "<section data-background-image = 'slides/SIAM-32.jpg' data-background-size = '90%'></section>\n",
      "<section data-background-image = 'slides/SIAM-33.jpg' data-background-size = '90%'></section>\n",
      "<section data-background-image = 'slides/SIAM-34.jpg' data-background-size = '90%'></section>\n",
      "<section data-background-image = 'slides/SIAM-35.jpg' data-background-size = '90%'></section>\n",
      "<section data-background-image = 'slides/SIAM-36.jpg' data-background-size = '90%'></section>\n",
      "<section data-background-image = 'slides/SIAM-37.jpg' data-background-size = '90%'></section>\n",
      "<section data-background-image = 'slides/SIAM-38.jpg' data-background-size = '90%'></section>\n",
      "<section data-background-image = 'slides/SIAM-39.jpg' data-background-size = '90%'></section>\n",
      "<section data-background-image = 'slides/SIAM-40.jpg' data-background-size = '90%'></section>\n",
      "<section data-background-image = 'slides/SIAM-41.jpg' data-background-size = '90%'></section>\n",
      "<section data-background-image = 'slides/SIAM-42.jpg' data-background-size = '90%'></section>\n",
      "<section data-background-image = 'slides/SIAM-43.jpg' data-background-size = '90%'></section>\n",
      "<section data-background-image = 'slides/SIAM-44.jpg' data-background-size = '90%'></section>\n",
      "<section data-background-image = 'slides/SIAM-45.jpg' data-background-size = '90%'></section>\n",
      "<section data-background-image = 'slides/SIAM-46.jpg' data-background-size = '90%'></section>\n",
      "<section data-background-image = 'slides/SIAM-47.jpg' data-background-size = '90%'></section>\n",
      "<section data-background-image = 'slides/SIAM-48.jpg' data-background-size = '90%'></section>\n",
      "<section data-background-image = 'slides/SIAM-49.jpg' data-background-size = '90%'></section>\n",
      "<section data-background-image = 'slides/SIAM-50.jpg' data-background-size = '90%'></section>\n"
     ]
    }
   ],
   "source": [
    "for i in range(50):\n",
    "    print(\"<section data-background-image = 'slides/SIAM-\"+str(i+1)+\".jpg' data-background-size = '90%'></section>\")"
   ]
  },
  {
   "cell_type": "code",
   "execution_count": null,
   "id": "ae88bec3",
   "metadata": {},
   "outputs": [],
   "source": []
  }
 ],
 "metadata": {
  "kernelspec": {
   "display_name": "Python 3 (ipykernel)",
   "language": "python",
   "name": "python3"
  },
  "language_info": {
   "codemirror_mode": {
    "name": "ipython",
    "version": 3
   },
   "file_extension": ".py",
   "mimetype": "text/x-python",
   "name": "python",
   "nbconvert_exporter": "python",
   "pygments_lexer": "ipython3",
   "version": "3.8.3"
  }
 },
 "nbformat": 4,
 "nbformat_minor": 5
}
